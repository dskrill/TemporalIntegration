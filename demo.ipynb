{
 "cells": [
  {
   "cell_type": "code",
   "execution_count": 1,
   "metadata": {},
   "outputs": [
    {
     "name": "stderr",
     "output_type": "stream",
     "text": [
      "/gpfs/fs2/scratch/snormanh_lab/dskrill/TemporalIntegration/preprocessing.py:6: TqdmExperimentalWarning: Using `tqdm.autonotebook.tqdm` in notebook mode. Use `tqdm.tqdm` instead to force console mode (e.g. in jupyter console)\n",
      "  from tqdm.autonotebook import tqdm\n"
     ]
    }
   ],
   "source": [
    "from preprocessing import *\n",
    "from word_swap import *\n",
    "from activations import *\n",
    "import torch\n",
    "from transformers import AutoTokenizer,AutoModel,pipeline\n",
    "from nltk.corpus import brown\n",
    "import matplotlib.pyplot as plt"
   ]
  },
  {
   "attachments": {},
   "cell_type": "markdown",
   "metadata": {},
   "source": [
    "# Obtaining and preprocessing a corpus\n",
    "\n",
    "For simplicity of demonstration, we use the Brown Corpus, conveniently available from NLTK. The Brown Corpus is a collection of English-language text, totaling roughly one million words, compiled from works published in the United States in 1961. The corpus is divided into 15 genres, such as news, editorial, and fiction; for this demonstration, we use the entire corpus. The files are further divided into sentences and tagged with part-of-speech (POS) tags. For more information on the Brown Corpus, see the [NLTK documentation](http://www.nltk.org/book/ch02.html#brown-corpus).\n",
    "\n",
    "The following code imports the Brown Corpus preprocesses each sentence. The preprocessing:\n",
    "- Removes punctuation\n",
    "- Converts all words to lowercase\n",
    "\n",
    "Additionally, this step removes sentences containing proper nouns or non-alphabetical characters."
   ]
  },
  {
   "cell_type": "code",
   "execution_count": 5,
   "metadata": {},
   "outputs": [
    {
     "data": {
      "application/vnd.jupyter.widget-view+json": {
       "model_id": "8610982971b6485ba880daebb47c794b",
       "version_major": 2,
       "version_minor": 0
      },
      "text/plain": [
       "  0%|          | 0/57340 [00:00<?, ?it/s]"
      ]
     },
     "metadata": {},
     "output_type": "display_data"
    },
    {
     "data": {
      "application/vnd.jupyter.widget-view+json": {
       "model_id": "e7c001ac873a499fa2014b93a6d13443",
       "version_major": 2,
       "version_minor": 0
      },
      "text/plain": [
       "  0%|          | 0/1004244 [00:00<?, ?it/s]"
      ]
     },
     "metadata": {},
     "output_type": "display_data"
    }
   ],
   "source": [
    "corpus = Corpus(brown)"
   ]
  },
  {
   "attachments": {},
   "cell_type": "markdown",
   "metadata": {},
   "source": [
    "We can filter the preprocessed sentences to retain only those having particular lengths:"
   ]
  },
  {
   "cell_type": "code",
   "execution_count": 6,
   "metadata": {},
   "outputs": [],
   "source": [
    "selected_sentences = corpus.get_sentences_of_length(12)"
   ]
  },
  {
   "attachments": {},
   "cell_type": "markdown",
   "metadata": {},
   "source": [
    "For example, we inspect the first five 12-word sentences:"
   ]
  },
  {
   "cell_type": "code",
   "execution_count": 7,
   "metadata": {},
   "outputs": [
    {
     "data": {
      "text/plain": [
       "['under committee rules it went automatically to a subcommittee for one week',\n",
       " 'nothing has been done yet to take advantage of the enabling legislation',\n",
       " 'how can a man with any degree of common decency charge this',\n",
       " 'he then launched into what the issues should be in the campaign',\n",
       " 'there is a tangible feeling in the air of revulsion toward politics']"
      ]
     },
     "execution_count": 7,
     "metadata": {},
     "output_type": "execute_result"
    }
   ],
   "source": [
    "[\" \".join(selected_sentences[i]) for i in range(5)]"
   ]
  },
  {
   "attachments": {},
   "cell_type": "markdown",
   "metadata": {},
   "source": [
    "We can also similarly extract and preprocess sequences of natural text (not necessarilly delimited by sentence boundaries):"
   ]
  },
  {
   "cell_type": "code",
   "execution_count": 8,
   "metadata": {},
   "outputs": [],
   "source": [
    "natural_sequences = corpus.get_natural_sequences_of_length(40)"
   ]
  },
  {
   "cell_type": "code",
   "execution_count": 9,
   "metadata": {},
   "outputs": [
    {
     "name": "stdout",
     "output_type": "stream",
     "text": [
      "0 party:NN\n",
      "1 leaders:NNS\n",
      "2 came:VBD\n",
      "3 out:RP\n",
      "4 of:IN\n",
      "5 the:AT\n",
      "6 final:JJ\n",
      "7 meeting:NN\n",
      "8 apparently:RB\n",
      "9 satisfied:VBN\n"
     ]
    }
   ],
   "source": [
    "for i,word in enumerate(natural_sequences[0][:10]):\n",
    "    print(f\"{i} {word}:{corpus.word_lookup[word]}\")"
   ]
  },
  {
   "attachments": {},
   "cell_type": "markdown",
   "metadata": {},
   "source": [
    "The Corpus object also has a dictionary that allows one to lookup words having a given POS-tag, e.g., adjectives (`JJ`):"
   ]
  },
  {
   "cell_type": "code",
   "execution_count": 10,
   "metadata": {},
   "outputs": [
    {
     "data": {
      "text/plain": [
       "['recent',\n",
       " 'overall',\n",
       " 'possible',\n",
       " 'hardfought',\n",
       " 'relative',\n",
       " 'such',\n",
       " 'widespread',\n",
       " 'outmoded',\n",
       " 'inadequate',\n",
       " 'ambiguous']"
      ]
     },
     "execution_count": 10,
     "metadata": {},
     "output_type": "execute_result"
    }
   ],
   "source": [
    "corpus.pos_dict[\"JJ\"][:10]"
   ]
  },
  {
   "attachments": {},
   "cell_type": "markdown",
   "metadata": {},
   "source": [
    "Lastly, one can similarly extract noun phrases from the corpus. For convenience, we repurpose the preprocessed sentences obtained above."
   ]
  },
  {
   "cell_type": "code",
   "execution_count": 11,
   "metadata": {},
   "outputs": [],
   "source": [
    "noun_phrases = corpus.get_noun_phrases_of_length(8)"
   ]
  },
  {
   "cell_type": "code",
   "execution_count": 12,
   "metadata": {},
   "outputs": [
    {
     "data": {
      "text/plain": [
       "['the entire two and a half mile length',\n",
       " 'the same three month period toll road bonds',\n",
       " 'the only or even the most appropriate conceptuality',\n",
       " 'the intellectual social political and economic attitudes institutions',\n",
       " 'the true color texture complexity range intensity pulse']"
      ]
     },
     "execution_count": 12,
     "metadata": {},
     "output_type": "execute_result"
    }
   ],
   "source": [
    "[\" \".join(noun_phrases[i]) for i in range(5)]"
   ]
  },
  {
   "attachments": {},
   "cell_type": "markdown",
   "metadata": {},
   "source": [
    "# Word swap procedure"
   ]
  },
  {
   "attachments": {},
   "cell_type": "markdown",
   "metadata": {},
   "source": [
    "Now that the corpus has been preprocessed, we can create sequences and perform the word swap procedure. The nature of the input sequences and the method of selecting the swapped word vary with the analysis at hand, but the word swap procedure remains the same. Specifically:\n",
    "\n",
    "- To assess overall integration, we use sequences of natural text(e.g., of 40 words in length), and make swaps using randomly selected words having the same POS-tag.\n",
    "- To assess structure yoking, we create sequences of five structures of prespecified length (e.g., 12-word sentences), and make swaps from a pool of words selected based on the difference in the embeddings betwen the original and candidate words.\n",
    "- We also consider making swaps using probable (or improbable) words, as determined (independently) by BERT.\n",
    "\n",
    "We found that sentence-final words yielded slightly more tokens on average than words in other positions. To account for this in the structure yoking analysis, we tokenize all candidate sentences and used only those that are comprised entirely of single-token words.\n",
    "\n",
    "One can instantiate a tokenizer and model as follows:\n"
   ]
  },
  {
   "cell_type": "code",
   "execution_count": 13,
   "metadata": {},
   "outputs": [],
   "source": [
    "model_type = \"gpt2\"\n",
    "tokenizer = AutoTokenizer.from_pretrained(\n",
    "    model_type, add_special_token=False,add_prefix_space=True)\n",
    "model = AutoModel.from_pretrained(model_type)"
   ]
  },
  {
   "attachments": {},
   "cell_type": "markdown",
   "metadata": {},
   "source": [
    "The Corpus also needs to be reinitialized with the new tokenizer:"
   ]
  },
  {
   "cell_type": "code",
   "execution_count": 14,
   "metadata": {},
   "outputs": [
    {
     "data": {
      "application/vnd.jupyter.widget-view+json": {
       "model_id": "d9ed906dd4254bb69f5f963a186c1c25",
       "version_major": 2,
       "version_minor": 0
      },
      "text/plain": [
       "  0%|          | 0/57340 [00:00<?, ?it/s]"
      ]
     },
     "metadata": {},
     "output_type": "display_data"
    },
    {
     "data": {
      "application/vnd.jupyter.widget-view+json": {
       "model_id": "58678fa624ba4e72957134bcc0719fc2",
       "version_major": 2,
       "version_minor": 0
      },
      "text/plain": [
       "  0%|          | 0/1004244 [00:00<?, ?it/s]"
      ]
     },
     "metadata": {},
     "output_type": "display_data"
    }
   ],
   "source": [
    "corpus = Corpus(brown,single_token_words=True,tokenizer=tokenizer)"
   ]
  },
  {
   "attachments": {},
   "cell_type": "markdown",
   "metadata": {},
   "source": [
    "GPT-2 does not have any structure-delimiting tokens. Other models (e.g., BERT) do have such tokens, which need to be excluded."
   ]
  },
  {
   "cell_type": "code",
   "execution_count": 15,
   "metadata": {},
   "outputs": [],
   "source": [
    "yoking_sequences = create_yoking_sequences(\n",
    "    sentences = corpus.get_sentences_of_length(12),\n",
    "    tokenizer = tokenizer,\n",
    "    excluded_token_ids = []\n",
    ")"
   ]
  },
  {
   "cell_type": "code",
   "execution_count": 16,
   "metadata": {},
   "outputs": [
    {
     "data": {
      "text/plain": [
       "'issuing bonds for plant construction has brought new industries to certain regions the atmosphere is that of an attractive private beach club at home'"
      ]
     },
     "execution_count": 16,
     "metadata": {},
     "output_type": "execute_result"
    }
   ],
   "source": [
    "\" \".join(yoking_sequences[0][:24])"
   ]
  },
  {
   "cell_type": "code",
   "execution_count": 17,
   "metadata": {},
   "outputs": [
    {
     "data": {
      "application/vnd.jupyter.widget-view+json": {
       "model_id": "c0aa313fbe36428db17b915c32945f80",
       "version_major": 2,
       "version_minor": 0
      },
      "text/plain": [
       "0it [00:00, ?it/s]"
      ]
     },
     "metadata": {},
     "output_type": "display_data"
    }
   ],
   "source": [
    "class WordSwap:\n",
    "    def __init__(self,excluded_token_ids=[]):\n",
    "        self.original_sequences = []\n",
    "        self.swapped = []\n",
    "        self.excluded_token_ids = excluded_token_ids \n",
    "\n",
    "        self.ok = True\n",
    "\n",
    "    def __call__(self,sequences):\n",
    "        pass\n",
    "\n",
    "class RandomWordSwap(WordSwap):\n",
    "    def __init__(self,excluded_token_ids=[]):\n",
    "        super().__init__(excluded_token_ids=excluded_token_ids)\n",
    "\n",
    "    def __repr__(self):\n",
    "        return \"Word swaps using random choice from word list\"\n",
    "\n",
    "    def __call__(self,sequences):\n",
    "        n_sequences = len(sequences)\n",
    "\n",
    "        for sequence_num,s in tqdm(enumerate(sequences)):\n",
    "            other = sequences[np.random.choice(range(n_sequences),1)[0]]\n",
    "            swapped_sequences = []\n",
    "            for i,word in enumerate(s):\n",
    "                temp = s.copy()\n",
    "                to_swap = random.choice(word_list)\n",
    "                while to_swap == word:\n",
    "                    to_swap = random.choice(word_list)\n",
    "                temp[i] = to_swap\n",
    "                swapped_sequences.append(temp)\n",
    "\n",
    "            self.swapped.append(swapped_sequences)\n",
    "            self.original_sequences.append(s)\n",
    "\n",
    "class RandomPosWordSwap(WordSwap):\n",
    "    def __init__(self,word_lookup,pos_dict,tokenizer,excluded_token_ids = []):\n",
    "        super().__init__(excluded_token_ids=excluded_token_ids)\n",
    "        self.word_lookup = word_lookup\n",
    "        self.pos_dict = pos_dict\n",
    "        self.tokenizer = tokenizer\n",
    "        self.word_list = []\n",
    "        for w in list(word_lookup.keys()):\n",
    "            tokens = [t for t in tokenizer.encode(w) if t not in excluded_token_ids]\n",
    "            if len(tokens) == 1:\n",
    "                self.word_list.append(w)\n",
    "    \n",
    "    def __repr__(self):\n",
    "        return \"Word swaps using random choice from same POS\"\n",
    "\n",
    "    def __call__(self,sequences):\n",
    "        for sequence_num,s in tqdm(enumerate(sequences)):\n",
    "            swapped_sequences = []\n",
    "            for i,word in enumerate(s):\n",
    "                temp = s.copy()\n",
    "                current_pos = self.word_lookup[word]\n",
    "                if current_pos not in self.pos_dict:\n",
    "                    print(\"Warning: \",current_pos,\" not in pos_dict\")\n",
    "                    print(word)\n",
    "                    to_swap = random.choice(self.word_list)\n",
    "                else:\n",
    "                    to_swap = random.choice(self.pos_dict[current_pos])\n",
    "                try_count = 0\n",
    "                token = self.tokenizer.encode(to_swap)\n",
    "                token = [t for t in token if t not in self.excluded_token_ids]\n",
    "                while (to_swap == word) or len(token)>1:\n",
    "                    if (try_count < 10) and (current_pos in self.pos_dict):\n",
    "                        to_swap = random.choice(self.pos_dict[current_pos]) # some rare pos tags may not have many words\n",
    "                        token = self.tokenizer.encode(to_swap)\n",
    "                        token = [t for t in token if t not in self.excluded_token_ids]\n",
    "                        try_count += 1\n",
    "                        # print(try_count,current_pos)\n",
    "                        if try_count == 10:\n",
    "                            print(f\"Warning: {current_pos} has few words (current word: {word})\")\n",
    "                            break\n",
    "                    else:\n",
    "                        to_swap = random.choice(self.word_list) # just pick randomly in that case\n",
    "                        break\n",
    "                temp[i] = to_swap\n",
    "                swapped_sequences.append(temp)\n",
    "            self.swapped.append(swapped_sequences)\n",
    "            self.original_sequences.append(s)\n",
    "\n",
    "\n",
    "\n",
    "pos_swapper = RandomPosWordSwap(corpus.word_lookup,corpus.pos_dict,tokenizer)\n",
    "pos_swapper(yoking_sequences[:250])\n",
    "\n"
   ]
  },
  {
   "attachments": {},
   "cell_type": "markdown",
   "metadata": {},
   "source": [
    "After calling them on an appropriate list of sequences, the word swap objects have attributes `swapped` and `original_sequences` that contain the swapped and original sequences, respectively. `swapped` is a list of lists: `swapped[i][j]` is the ith sequence with the jth word swapped. Indices are zero-indexed."
   ]
  },
  {
   "cell_type": "code",
   "execution_count": 18,
   "metadata": {},
   "outputs": [
    {
     "name": "stdout",
     "output_type": "stream",
     "text": [
      "Original: issuing bonds for plant construction has brought new industries to ...\n",
      "Swapped at 5: issuing bonds for plant construction to brought new industries to ...\n",
      "Swapped at 6: issuing bonds for plant construction has faced new industries to ...\n"
     ]
    }
   ],
   "source": [
    "i = 0\n",
    "j = 5\n",
    "print(\"Original: \" + \" \".join(pos_swapper.original_sequences[i][:10]) + \" ...\"),\n",
    "print(f\"Swapped at {j}: \" + \" \".join(pos_swapper.swapped[i][j][:10]) + \" ...\") \n",
    "print(f\"Swapped at {j+1}: \" + \" \".join(pos_swapper.swapped[i][j+1][:10]) + \" ...\") "
   ]
  },
  {
   "attachments": {},
   "cell_type": "markdown",
   "metadata": {},
   "source": [
    "Let's also see how the other swap procedures work:"
   ]
  },
  {
   "cell_type": "code",
   "execution_count": 51,
   "metadata": {},
   "outputs": [
    {
     "data": {
      "application/vnd.jupyter.widget-view+json": {
       "model_id": "7978d1064ba245e496b3c0b1c4e939fe",
       "version_major": 2,
       "version_minor": 0
      },
      "text/plain": [
       "  0%|          | 0/14999 [00:00<?, ?it/s]"
      ]
     },
     "metadata": {},
     "output_type": "display_data"
    },
    {
     "name": "stdout",
     "output_type": "stream",
     "text": [
      "Candidate embeddings created of shape:  torch.Size([14999, 768])\n"
     ]
    }
   ],
   "source": [
    "word_list = list(corpus.word_lookup.keys())\n",
    "word_list,tokens = filter_word_list(word_list, tokenizer,[])\n",
    "candidate_embeddings = create_candidate_embeddings(tokens,model.base_model.wte.forward)\n",
    "sampling_params = {'mean':.125,'half_width':.003,'spacing':.001,'size':100}\n",
    "distribution_swapper = DistributionWordSwap(word_list,\n",
    "                                            candidate_embeddings,\n",
    "                                            model.base_model.wte.forward,\n",
    "                                            sampling_params,\n",
    "                                            tokenizer,\n",
    "                                            excluded_token_ids = [])\n"
   ]
  },
  {
   "cell_type": "code",
   "execution_count": 52,
   "metadata": {},
   "outputs": [
    {
     "data": {
      "application/vnd.jupyter.widget-view+json": {
       "model_id": "5997b02e5ccb4cca95f2356d3c0f853d",
       "version_major": 2,
       "version_minor": 0
      },
      "text/plain": [
       "0it [00:00, ?it/s]"
      ]
     },
     "metadata": {},
     "output_type": "display_data"
    },
    {
     "name": "stdout",
     "output_type": "stream",
     "text": [
      "Using random word sub for:  stride\n"
     ]
    }
   ],
   "source": [
    "distribution_swapper(yoking_sequences[:10])"
   ]
  },
  {
   "cell_type": "code",
   "execution_count": 53,
   "metadata": {},
   "outputs": [
    {
     "name": "stdout",
     "output_type": "stream",
     "text": [
      "Original: issuing bonds for plant construction has brought new industries to\n",
      "Swapped at 5: issuing bonds for plant construction roundup brought new industries to\n",
      "Swapped at 6: issuing bonds for plant construction has bedrooms new industries to\n"
     ]
    }
   ],
   "source": [
    "print(\"Original: \" + \" \".join(distribution_swapper.original_sequences[i][:10])),\n",
    "print(f\"Swapped at {j}: \" + \" \".join(distribution_swapper.swapped[i][j][:10])) \n",
    "print(f\"Swapped at {j+1}: \" + \" \".join(distribution_swapper.swapped[i][j+1][:10])) "
   ]
  },
  {
   "cell_type": "code",
   "execution_count": 22,
   "metadata": {},
   "outputs": [
    {
     "name": "stderr",
     "output_type": "stream",
     "text": [
      "Some weights of the model checkpoint at bert-large-uncased-whole-word-masking were not used when initializing BertForMaskedLM: ['cls.seq_relationship.weight', 'cls.seq_relationship.bias']\n",
      "- This IS expected if you are initializing BertForMaskedLM from the checkpoint of a model trained on another task or with another architecture (e.g. initializing a BertForSequenceClassification model from a BertForPreTraining model).\n",
      "- This IS NOT expected if you are initializing BertForMaskedLM from the checkpoint of a model that you expect to be exactly identical (initializing a BertForSequenceClassification model from a BertForSequenceClassification model).\n"
     ]
    },
    {
     "data": {
      "application/vnd.jupyter.widget-view+json": {
       "model_id": "3d83e667416741518f85af2dbb9b730b",
       "version_major": 2,
       "version_minor": 0
      },
      "text/plain": [
       "0it [00:00, ?it/s]"
      ]
     },
     "metadata": {},
     "output_type": "display_data"
    }
   ],
   "source": [
    "unmasker = pipeline('fill-mask',model = 'bert-large-uncased-whole-word-masking',top_k=1000,device='cpu')\n",
    "probable_swapper = ProbableWordSwap(unmasker,idx_low = 0,idx_high = 5,sentence_len = 12,excluded_token_ids = [])\n",
    "probable_swapper(yoking_sequences[:10])\n"
   ]
  },
  {
   "cell_type": "code",
   "execution_count": 23,
   "metadata": {},
   "outputs": [
    {
     "name": "stdout",
     "output_type": "stream",
     "text": [
      "Original: issuing bonds for plant construction has brought new industries to\n",
      "Swapped at 5: issuing bonds for plant construction which brought new industries to\n",
      "Swapped at 6: issuing bonds for plant construction has introduced new industries to\n"
     ]
    }
   ],
   "source": [
    "print(\"Original: \" + \" \".join(probable_swapper.original_sequences[i][:10])),\n",
    "print(f\"Swapped at {j}: \" + \" \".join(probable_swapper.swapped[i][j][:10])) \n",
    "print(f\"Swapped at {j+1}: \" + \" \".join(probable_swapper.swapped[i][j+1][:10])) "
   ]
  },
  {
   "attachments": {},
   "cell_type": "markdown",
   "metadata": {},
   "source": [
    "# Obtaining activations"
   ]
  },
  {
   "attachments": {},
   "cell_type": "markdown",
   "metadata": {},
   "source": [
    "Having obtained the swapped sequences, we can now obtain activations for each sequence. The activations are obtained by passing the sequences through an LLM and extracting the activations. Typically, the 0th layer of the LLM is a non-contextual embedding layer; subsequent layers are contextual. \n",
    "\n",
    "Unless one has restricted the analysis to only single-token words, some words will likely be tokenized into multiple tokens. In this case, we take the mean of the activations for the tokens comprising the word. We do this by first creating a Pandas DataFrame from the text, which makes it convenient to track which tokens correspond to each word. The funcion that extacts the activations takes this DataFrame as input."
   ]
  },
  {
   "cell_type": "code",
   "execution_count": 24,
   "metadata": {},
   "outputs": [
    {
     "data": {
      "text/html": [
       "<div>\n",
       "<style scoped>\n",
       "    .dataframe tbody tr th:only-of-type {\n",
       "        vertical-align: middle;\n",
       "    }\n",
       "\n",
       "    .dataframe tbody tr th {\n",
       "        vertical-align: top;\n",
       "    }\n",
       "\n",
       "    .dataframe thead th {\n",
       "        text-align: right;\n",
       "    }\n",
       "</style>\n",
       "<table border=\"1\" class=\"dataframe\">\n",
       "  <thead>\n",
       "    <tr style=\"text-align: right;\">\n",
       "      <th></th>\n",
       "      <th>word</th>\n",
       "      <th>tokens</th>\n",
       "      <th>n_tokens_in_word</th>\n",
       "      <th>decoded</th>\n",
       "    </tr>\n",
       "  </thead>\n",
       "  <tbody>\n",
       "    <tr>\n",
       "      <th>0</th>\n",
       "      <td>issuing</td>\n",
       "      <td>[19089]</td>\n",
       "      <td>1</td>\n",
       "      <td>[Ġissuing]</td>\n",
       "    </tr>\n",
       "    <tr>\n",
       "      <th>1</th>\n",
       "      <td>bonds</td>\n",
       "      <td>[13100]</td>\n",
       "      <td>1</td>\n",
       "      <td>[Ġbonds]</td>\n",
       "    </tr>\n",
       "    <tr>\n",
       "      <th>2</th>\n",
       "      <td>for</td>\n",
       "      <td>[329]</td>\n",
       "      <td>1</td>\n",
       "      <td>[Ġfor]</td>\n",
       "    </tr>\n",
       "    <tr>\n",
       "      <th>3</th>\n",
       "      <td>plant</td>\n",
       "      <td>[4618]</td>\n",
       "      <td>1</td>\n",
       "      <td>[Ġplant]</td>\n",
       "    </tr>\n",
       "    <tr>\n",
       "      <th>4</th>\n",
       "      <td>construction</td>\n",
       "      <td>[5103]</td>\n",
       "      <td>1</td>\n",
       "      <td>[Ġconstruction]</td>\n",
       "    </tr>\n",
       "    <tr>\n",
       "      <th>5</th>\n",
       "      <td>has</td>\n",
       "      <td>[468]</td>\n",
       "      <td>1</td>\n",
       "      <td>[Ġhas]</td>\n",
       "    </tr>\n",
       "    <tr>\n",
       "      <th>6</th>\n",
       "      <td>brought</td>\n",
       "      <td>[3181]</td>\n",
       "      <td>1</td>\n",
       "      <td>[Ġbrought]</td>\n",
       "    </tr>\n",
       "    <tr>\n",
       "      <th>7</th>\n",
       "      <td>new</td>\n",
       "      <td>[649]</td>\n",
       "      <td>1</td>\n",
       "      <td>[Ġnew]</td>\n",
       "    </tr>\n",
       "    <tr>\n",
       "      <th>8</th>\n",
       "      <td>industries</td>\n",
       "      <td>[11798]</td>\n",
       "      <td>1</td>\n",
       "      <td>[Ġindustries]</td>\n",
       "    </tr>\n",
       "    <tr>\n",
       "      <th>9</th>\n",
       "      <td>to</td>\n",
       "      <td>[284]</td>\n",
       "      <td>1</td>\n",
       "      <td>[Ġto]</td>\n",
       "    </tr>\n",
       "    <tr>\n",
       "      <th>10</th>\n",
       "      <td>certain</td>\n",
       "      <td>[1728]</td>\n",
       "      <td>1</td>\n",
       "      <td>[Ġcertain]</td>\n",
       "    </tr>\n",
       "    <tr>\n",
       "      <th>11</th>\n",
       "      <td>regions</td>\n",
       "      <td>[7652]</td>\n",
       "      <td>1</td>\n",
       "      <td>[Ġregions]</td>\n",
       "    </tr>\n",
       "    <tr>\n",
       "      <th>12</th>\n",
       "      <td>the</td>\n",
       "      <td>[262]</td>\n",
       "      <td>1</td>\n",
       "      <td>[Ġthe]</td>\n",
       "    </tr>\n",
       "    <tr>\n",
       "      <th>13</th>\n",
       "      <td>atmosphere</td>\n",
       "      <td>[8137]</td>\n",
       "      <td>1</td>\n",
       "      <td>[Ġatmosphere]</td>\n",
       "    </tr>\n",
       "    <tr>\n",
       "      <th>14</th>\n",
       "      <td>is</td>\n",
       "      <td>[318]</td>\n",
       "      <td>1</td>\n",
       "      <td>[Ġis]</td>\n",
       "    </tr>\n",
       "    <tr>\n",
       "      <th>15</th>\n",
       "      <td>that</td>\n",
       "      <td>[326]</td>\n",
       "      <td>1</td>\n",
       "      <td>[Ġthat]</td>\n",
       "    </tr>\n",
       "    <tr>\n",
       "      <th>16</th>\n",
       "      <td>of</td>\n",
       "      <td>[286]</td>\n",
       "      <td>1</td>\n",
       "      <td>[Ġof]</td>\n",
       "    </tr>\n",
       "    <tr>\n",
       "      <th>17</th>\n",
       "      <td>an</td>\n",
       "      <td>[281]</td>\n",
       "      <td>1</td>\n",
       "      <td>[Ġan]</td>\n",
       "    </tr>\n",
       "    <tr>\n",
       "      <th>18</th>\n",
       "      <td>attractive</td>\n",
       "      <td>[10966]</td>\n",
       "      <td>1</td>\n",
       "      <td>[Ġattractive]</td>\n",
       "    </tr>\n",
       "    <tr>\n",
       "      <th>19</th>\n",
       "      <td>private</td>\n",
       "      <td>[2839]</td>\n",
       "      <td>1</td>\n",
       "      <td>[Ġprivate]</td>\n",
       "    </tr>\n",
       "    <tr>\n",
       "      <th>20</th>\n",
       "      <td>beach</td>\n",
       "      <td>[10481]</td>\n",
       "      <td>1</td>\n",
       "      <td>[Ġbeach]</td>\n",
       "    </tr>\n",
       "    <tr>\n",
       "      <th>21</th>\n",
       "      <td>club</td>\n",
       "      <td>[3430]</td>\n",
       "      <td>1</td>\n",
       "      <td>[Ġclub]</td>\n",
       "    </tr>\n",
       "    <tr>\n",
       "      <th>22</th>\n",
       "      <td>at</td>\n",
       "      <td>[379]</td>\n",
       "      <td>1</td>\n",
       "      <td>[Ġat]</td>\n",
       "    </tr>\n",
       "    <tr>\n",
       "      <th>23</th>\n",
       "      <td>home</td>\n",
       "      <td>[1363]</td>\n",
       "      <td>1</td>\n",
       "      <td>[Ġhome]</td>\n",
       "    </tr>\n",
       "    <tr>\n",
       "      <th>24</th>\n",
       "      <td>they</td>\n",
       "      <td>[484]</td>\n",
       "      <td>1</td>\n",
       "      <td>[Ġthey]</td>\n",
       "    </tr>\n",
       "    <tr>\n",
       "      <th>25</th>\n",
       "      <td>do</td>\n",
       "      <td>[466]</td>\n",
       "      <td>1</td>\n",
       "      <td>[Ġdo]</td>\n",
       "    </tr>\n",
       "    <tr>\n",
       "      <th>26</th>\n",
       "      <td>not</td>\n",
       "      <td>[407]</td>\n",
       "      <td>1</td>\n",
       "      <td>[Ġnot]</td>\n",
       "    </tr>\n",
       "    <tr>\n",
       "      <th>27</th>\n",
       "      <td>destroy</td>\n",
       "      <td>[4117]</td>\n",
       "      <td>1</td>\n",
       "      <td>[Ġdestroy]</td>\n",
       "    </tr>\n",
       "    <tr>\n",
       "      <th>28</th>\n",
       "      <td>physical</td>\n",
       "      <td>[3518]</td>\n",
       "      <td>1</td>\n",
       "      <td>[Ġphysical]</td>\n",
       "    </tr>\n",
       "    <tr>\n",
       "      <th>29</th>\n",
       "      <td>structures</td>\n",
       "      <td>[8573]</td>\n",
       "      <td>1</td>\n",
       "      <td>[Ġstructures]</td>\n",
       "    </tr>\n",
       "    <tr>\n",
       "      <th>30</th>\n",
       "      <td>as</td>\n",
       "      <td>[355]</td>\n",
       "      <td>1</td>\n",
       "      <td>[Ġas]</td>\n",
       "    </tr>\n",
       "    <tr>\n",
       "      <th>31</th>\n",
       "      <td>is</td>\n",
       "      <td>[318]</td>\n",
       "      <td>1</td>\n",
       "      <td>[Ġis]</td>\n",
       "    </tr>\n",
       "    <tr>\n",
       "      <th>32</th>\n",
       "      <td>true</td>\n",
       "      <td>[2081]</td>\n",
       "      <td>1</td>\n",
       "      <td>[Ġtrue]</td>\n",
       "    </tr>\n",
       "    <tr>\n",
       "      <th>33</th>\n",
       "      <td>of</td>\n",
       "      <td>[286]</td>\n",
       "      <td>1</td>\n",
       "      <td>[Ġof]</td>\n",
       "    </tr>\n",
       "    <tr>\n",
       "      <th>34</th>\n",
       "      <td>high</td>\n",
       "      <td>[1029]</td>\n",
       "      <td>1</td>\n",
       "      <td>[Ġhigh]</td>\n",
       "    </tr>\n",
       "    <tr>\n",
       "      <th>35</th>\n",
       "      <td>explosives</td>\n",
       "      <td>[20732]</td>\n",
       "      <td>1</td>\n",
       "      <td>[Ġexplosives]</td>\n",
       "    </tr>\n",
       "    <tr>\n",
       "      <th>36</th>\n",
       "      <td>of</td>\n",
       "      <td>[286]</td>\n",
       "      <td>1</td>\n",
       "      <td>[Ġof]</td>\n",
       "    </tr>\n",
       "    <tr>\n",
       "      <th>37</th>\n",
       "      <td>course</td>\n",
       "      <td>[1781]</td>\n",
       "      <td>1</td>\n",
       "      <td>[Ġcourse]</td>\n",
       "    </tr>\n",
       "    <tr>\n",
       "      <th>38</th>\n",
       "      <td>one</td>\n",
       "      <td>[530]</td>\n",
       "      <td>1</td>\n",
       "      <td>[Ġone]</td>\n",
       "    </tr>\n",
       "    <tr>\n",
       "      <th>39</th>\n",
       "      <td>of</td>\n",
       "      <td>[286]</td>\n",
       "      <td>1</td>\n",
       "      <td>[Ġof]</td>\n",
       "    </tr>\n",
       "    <tr>\n",
       "      <th>40</th>\n",
       "      <td>them</td>\n",
       "      <td>[606]</td>\n",
       "      <td>1</td>\n",
       "      <td>[Ġthem]</td>\n",
       "    </tr>\n",
       "    <tr>\n",
       "      <th>41</th>\n",
       "      <td>would</td>\n",
       "      <td>[561]</td>\n",
       "      <td>1</td>\n",
       "      <td>[Ġwould]</td>\n",
       "    </tr>\n",
       "    <tr>\n",
       "      <th>42</th>\n",
       "      <td>have</td>\n",
       "      <td>[423]</td>\n",
       "      <td>1</td>\n",
       "      <td>[Ġhave]</td>\n",
       "    </tr>\n",
       "    <tr>\n",
       "      <th>43</th>\n",
       "      <td>to</td>\n",
       "      <td>[284]</td>\n",
       "      <td>1</td>\n",
       "      <td>[Ġto]</td>\n",
       "    </tr>\n",
       "    <tr>\n",
       "      <th>44</th>\n",
       "      <td>go</td>\n",
       "      <td>[467]</td>\n",
       "      <td>1</td>\n",
       "      <td>[Ġgo]</td>\n",
       "    </tr>\n",
       "    <tr>\n",
       "      <th>45</th>\n",
       "      <td>and</td>\n",
       "      <td>[290]</td>\n",
       "      <td>1</td>\n",
       "      <td>[Ġand]</td>\n",
       "    </tr>\n",
       "    <tr>\n",
       "      <th>46</th>\n",
       "      <td>do</td>\n",
       "      <td>[466]</td>\n",
       "      <td>1</td>\n",
       "      <td>[Ġdo]</td>\n",
       "    </tr>\n",
       "    <tr>\n",
       "      <th>47</th>\n",
       "      <td>this</td>\n",
       "      <td>[428]</td>\n",
       "      <td>1</td>\n",
       "      <td>[Ġthis]</td>\n",
       "    </tr>\n",
       "    <tr>\n",
       "      <th>48</th>\n",
       "      <td>but</td>\n",
       "      <td>[475]</td>\n",
       "      <td>1</td>\n",
       "      <td>[Ġbut]</td>\n",
       "    </tr>\n",
       "    <tr>\n",
       "      <th>49</th>\n",
       "      <td>a</td>\n",
       "      <td>[257]</td>\n",
       "      <td>1</td>\n",
       "      <td>[Ġa]</td>\n",
       "    </tr>\n",
       "    <tr>\n",
       "      <th>50</th>\n",
       "      <td>great</td>\n",
       "      <td>[1049]</td>\n",
       "      <td>1</td>\n",
       "      <td>[Ġgreat]</td>\n",
       "    </tr>\n",
       "    <tr>\n",
       "      <th>51</th>\n",
       "      <td>many</td>\n",
       "      <td>[867]</td>\n",
       "      <td>1</td>\n",
       "      <td>[Ġmany]</td>\n",
       "    </tr>\n",
       "    <tr>\n",
       "      <th>52</th>\n",
       "      <td>of</td>\n",
       "      <td>[286]</td>\n",
       "      <td>1</td>\n",
       "      <td>[Ġof]</td>\n",
       "    </tr>\n",
       "    <tr>\n",
       "      <th>53</th>\n",
       "      <td>the</td>\n",
       "      <td>[262]</td>\n",
       "      <td>1</td>\n",
       "      <td>[Ġthe]</td>\n",
       "    </tr>\n",
       "    <tr>\n",
       "      <th>54</th>\n",
       "      <td>dancers</td>\n",
       "      <td>[35837]</td>\n",
       "      <td>1</td>\n",
       "      <td>[Ġdancers]</td>\n",
       "    </tr>\n",
       "    <tr>\n",
       "      <th>55</th>\n",
       "      <td>are</td>\n",
       "      <td>[389]</td>\n",
       "      <td>1</td>\n",
       "      <td>[Ġare]</td>\n",
       "    </tr>\n",
       "    <tr>\n",
       "      <th>56</th>\n",
       "      <td>more</td>\n",
       "      <td>[517]</td>\n",
       "      <td>1</td>\n",
       "      <td>[Ġmore]</td>\n",
       "    </tr>\n",
       "    <tr>\n",
       "      <th>57</th>\n",
       "      <td>or</td>\n",
       "      <td>[393]</td>\n",
       "      <td>1</td>\n",
       "      <td>[Ġor]</td>\n",
       "    </tr>\n",
       "    <tr>\n",
       "      <th>58</th>\n",
       "      <td>less</td>\n",
       "      <td>[1342]</td>\n",
       "      <td>1</td>\n",
       "      <td>[Ġless]</td>\n",
       "    </tr>\n",
       "    <tr>\n",
       "      <th>59</th>\n",
       "      <td>native</td>\n",
       "      <td>[6868]</td>\n",
       "      <td>1</td>\n",
       "      <td>[Ġnative]</td>\n",
       "    </tr>\n",
       "  </tbody>\n",
       "</table>\n",
       "</div>"
      ],
      "text/plain": [
       "            word   tokens  n_tokens_in_word          decoded\n",
       "0        issuing  [19089]                 1       [Ġissuing]\n",
       "1          bonds  [13100]                 1         [Ġbonds]\n",
       "2            for    [329]                 1           [Ġfor]\n",
       "3          plant   [4618]                 1         [Ġplant]\n",
       "4   construction   [5103]                 1  [Ġconstruction]\n",
       "5            has    [468]                 1           [Ġhas]\n",
       "6        brought   [3181]                 1       [Ġbrought]\n",
       "7            new    [649]                 1           [Ġnew]\n",
       "8     industries  [11798]                 1    [Ġindustries]\n",
       "9             to    [284]                 1            [Ġto]\n",
       "10       certain   [1728]                 1       [Ġcertain]\n",
       "11       regions   [7652]                 1       [Ġregions]\n",
       "12           the    [262]                 1           [Ġthe]\n",
       "13    atmosphere   [8137]                 1    [Ġatmosphere]\n",
       "14            is    [318]                 1            [Ġis]\n",
       "15          that    [326]                 1          [Ġthat]\n",
       "16            of    [286]                 1            [Ġof]\n",
       "17            an    [281]                 1            [Ġan]\n",
       "18    attractive  [10966]                 1    [Ġattractive]\n",
       "19       private   [2839]                 1       [Ġprivate]\n",
       "20         beach  [10481]                 1         [Ġbeach]\n",
       "21          club   [3430]                 1          [Ġclub]\n",
       "22            at    [379]                 1            [Ġat]\n",
       "23          home   [1363]                 1          [Ġhome]\n",
       "24          they    [484]                 1          [Ġthey]\n",
       "25            do    [466]                 1            [Ġdo]\n",
       "26           not    [407]                 1           [Ġnot]\n",
       "27       destroy   [4117]                 1       [Ġdestroy]\n",
       "28      physical   [3518]                 1      [Ġphysical]\n",
       "29    structures   [8573]                 1    [Ġstructures]\n",
       "30            as    [355]                 1            [Ġas]\n",
       "31            is    [318]                 1            [Ġis]\n",
       "32          true   [2081]                 1          [Ġtrue]\n",
       "33            of    [286]                 1            [Ġof]\n",
       "34          high   [1029]                 1          [Ġhigh]\n",
       "35    explosives  [20732]                 1    [Ġexplosives]\n",
       "36            of    [286]                 1            [Ġof]\n",
       "37        course   [1781]                 1        [Ġcourse]\n",
       "38           one    [530]                 1           [Ġone]\n",
       "39            of    [286]                 1            [Ġof]\n",
       "40          them    [606]                 1          [Ġthem]\n",
       "41         would    [561]                 1         [Ġwould]\n",
       "42          have    [423]                 1          [Ġhave]\n",
       "43            to    [284]                 1            [Ġto]\n",
       "44            go    [467]                 1            [Ġgo]\n",
       "45           and    [290]                 1           [Ġand]\n",
       "46            do    [466]                 1            [Ġdo]\n",
       "47          this    [428]                 1          [Ġthis]\n",
       "48           but    [475]                 1           [Ġbut]\n",
       "49             a    [257]                 1             [Ġa]\n",
       "50         great   [1049]                 1         [Ġgreat]\n",
       "51          many    [867]                 1          [Ġmany]\n",
       "52            of    [286]                 1            [Ġof]\n",
       "53           the    [262]                 1           [Ġthe]\n",
       "54       dancers  [35837]                 1       [Ġdancers]\n",
       "55           are    [389]                 1           [Ġare]\n",
       "56          more    [517]                 1          [Ġmore]\n",
       "57            or    [393]                 1            [Ġor]\n",
       "58          less   [1342]                 1          [Ġless]\n",
       "59        native   [6868]                 1        [Ġnative]"
      ]
     },
     "execution_count": 24,
     "metadata": {},
     "output_type": "execute_result"
    }
   ],
   "source": [
    "text_to_df(probable_swapper.original_sequences[0],tokenizer=tokenizer)"
   ]
  },
  {
   "cell_type": "code",
   "execution_count": 37,
   "metadata": {},
   "outputs": [
    {
     "data": {
      "application/vnd.jupyter.widget-view+json": {
       "model_id": "43a2ff2bc4274a7d85ca0f0487de0baa",
       "version_major": 2,
       "version_minor": 0
      },
      "text/plain": [
       "0it [00:00, ?it/s]"
      ]
     },
     "metadata": {},
     "output_type": "display_data"
    },
    {
     "name": "stdout",
     "output_type": "stream",
     "text": [
      "Finished calculating difference tensor for  250  sequences\n"
     ]
    }
   ],
   "source": [
    "swapped_seqs = pos_swapper.swapped\n",
    "original_seqs = pos_swapper.original_sequences\n",
    "differences = calculate_differences(swapped_seqs,original_seqs,tokenizer,model,device='cuda')"
   ]
  },
  {
   "cell_type": "code",
   "execution_count": 40,
   "metadata": {},
   "outputs": [
    {
     "data": {
      "text/plain": [
       "<matplotlib.image.AxesImage at 0x2b73ec7c6fe0>"
      ]
     },
     "execution_count": 40,
     "metadata": {},
     "output_type": "execute_result"
    },
    {
     "data": {
      "image/png": "[encoded data removed]",
      "text/plain": [
       "<Figure size 640x480 with 1 Axes>"
      ]
     },
     "metadata": {},
     "output_type": "display_data"
    }
   ],
   "source": [
    "import matplotlib.pyplot as plt\n",
    "plt.imshow(differences.mean(-1)[11])"
   ]
  },
  {
   "attachments": {},
   "cell_type": "markdown",
   "metadata": {},
   "source": [
    "# Reproducing analyses"
   ]
  },
  {
   "attachments": {},
   "cell_type": "markdown",
   "metadata": {},
   "source": [
    "## Overall integration"
   ]
  },
  {
   "cell_type": "code",
   "execution_count": 61,
   "metadata": {},
   "outputs": [
    {
     "data": {
      "application/vnd.jupyter.widget-view+json": {
       "model_id": "5a8d47258bad44fd8e09c8c538b8842c",
       "version_major": 2,
       "version_minor": 0
      },
      "text/plain": [
       "  0%|          | 0/57340 [00:00<?, ?it/s]"
      ]
     },
     "metadata": {},
     "output_type": "display_data"
    },
    {
     "data": {
      "application/vnd.jupyter.widget-view+json": {
       "model_id": "98e08b190a13442db980542debf8bbde",
       "version_major": 2,
       "version_minor": 0
      },
      "text/plain": [
       "  0%|          | 0/1004244 [00:00<?, ?it/s]"
      ]
     },
     "metadata": {},
     "output_type": "display_data"
    },
    {
     "data": {
      "application/vnd.jupyter.widget-view+json": {
       "model_id": "39cdd7fd2e774f46bfa6086fd4d3fb5d",
       "version_major": 2,
       "version_minor": 0
      },
      "text/plain": [
       "  0%|          | 0/14999 [00:00<?, ?it/s]"
      ]
     },
     "metadata": {},
     "output_type": "display_data"
    },
    {
     "name": "stdout",
     "output_type": "stream",
     "text": [
      "Candidate embeddings created of shape:  torch.Size([14999, 768])\n"
     ]
    }
   ],
   "source": [
    "model_type = \"gpt2\"\n",
    "tokenizer = AutoTokenizer.from_pretrained(\n",
    "    model_type, add_special_token=False,add_prefix_space=True)\n",
    "model = AutoModel.from_pretrained(model_type)\n",
    "\n",
    "overall_integration_corpus = Corpus(brown,single_token_words=False,tokenizer=tokenizer)\n",
    "overall_integration_swapper = RandomPosWordSwap(overall_integration_corpus.word_lookup,\n",
    "                                                overall_integration_corpus.pos_dict,\n",
    "                                                tokenizer)\n",
    "natural_sequences_40 = overall_integration_corpus.get_natural_sequences_of_length(40)\n",
    "len(natural_sequences_40)"
   ]
  },
  {
   "cell_type": "code",
   "execution_count": 55,
   "metadata": {},
   "outputs": [
    {
     "data": {
      "application/vnd.jupyter.widget-view+json": {
       "model_id": "f45f01e4184946b484dd26459fee1c08",
       "version_major": 2,
       "version_minor": 0
      },
      "text/plain": [
       "0it [00:00, ?it/s]"
      ]
     },
     "metadata": {},
     "output_type": "display_data"
    },
    {
     "name": "stdout",
     "output_type": "stream",
     "text": [
      "Using random word sub for:  cathodoluminescent\n"
     ]
    },
    {
     "data": {
      "application/vnd.jupyter.widget-view+json": {
       "model_id": "17998f8e81784944b9e1330ceb485c35",
       "version_major": 2,
       "version_minor": 0
      },
      "text/plain": [
       "0it [00:00, ?it/s]"
      ]
     },
     "metadata": {},
     "output_type": "display_data"
    },
    {
     "name": "stdout",
     "output_type": "stream",
     "text": [
      "Finished calculating difference tensor for  114  sequences\n"
     ]
    }
   ],
   "source": [
    "overall_integration_swapper(natural_sequences_40)\n",
    "differences = calculate_differences(overall_integration_swapper.swapped,\n",
    "                                    overall_integration_swapper.original_sequences,\n",
    "                                    tokenizer,model,device='cuda')"
   ]
  },
  {
   "cell_type": "code",
   "execution_count": 58,
   "metadata": {},
   "outputs": [
    {
     "name": "stdout",
     "output_type": "stream",
     "text": [
      "differences shape:  torch.Size([13, 40, 40, 768])\n",
      "D shape:  (768, 40, 40, 13)\n"
     ]
    },
    {
     "data": {
      "application/vnd.jupyter.widget-view+json": {
       "model_id": "d17f7565785b4860a59ca4ab98d976e7",
       "version_major": 2,
       "version_minor": 0
      },
      "text/plain": [
       "  0%|          | 0/768 [00:00<?, ?it/s]"
      ]
     },
     "metadata": {},
     "output_type": "display_data"
    }
   ],
   "source": [
    "from analysis import *\n",
    "print(\"differences shape: \",differences.shape)\n",
    "D = np.transpose(differences.numpy(), (3, 1, 2, 0))\n",
    "print(\"D shape: \",D.shape)\n",
    "n_features, n_stim_time, n_model_time, n_layers = D.shape\n",
    "all_fits, all_D_delta = fit_curves(D)"
   ]
  },
  {
   "cell_type": "code",
   "execution_count": 59,
   "metadata": {},
   "outputs": [
    {
     "data": {
      "text/plain": [
       "(768, 13, 3)"
      ]
     },
     "execution_count": 59,
     "metadata": {},
     "output_type": "execute_result"
    }
   ],
   "source": [
    "stacked_fits = [np.stack(fit) for fit in all_fits]\n",
    "stacked_fits = np.stack(stacked_fits)\n",
    "stacked_fits.shape"
   ]
  },
  {
   "cell_type": "code",
   "execution_count": 60,
   "metadata": {},
   "outputs": [
    {
     "data": {
      "image/png": "[encoded data removed]",
      "text/plain": [
       "<Figure size 550x250 with 3 Axes>"
      ]
     },
     "metadata": {},
     "output_type": "display_data"
    }
   ],
   "source": [
    "fig,axes = plt.subplots(figsize=(5.5,2.5),nrows=1,ncols=3,sharex=True,sharey=False)\n",
    "\n",
    "for i,(plot_idx,to_plot) in enumerate(zip([2,0,1],['c','a','b'])):    \n",
    "    layers = [1,3,6,9,12]\n",
    "    ranges = [[0,1.5],[0,12],[0,1]]\n",
    "    axes[i].violinplot(stacked_fits[:,layers,plot_idx],showextrema=False,showmedians=True)\n",
    "    if i ==0:\n",
    "        axes[i].set_xticks(range(1,6),layers)\n",
    "        axes[i].set_xlabel('Layer')\n",
    "        axes[i].set_ylabel('Parameter value')\n",
    "    axes[i].set_ylim(ranges[plot_idx])\n",
    "    if to_plot == 'a':\n",
    "        axes[i].set_title(r'Power law' '\\n' r'parameter $a$')\n",
    "    elif to_plot == 'b':\n",
    "        axes[i].set_title(r'Exponential rate' '\\n' r'parameter $b$')\n",
    "    elif to_plot == 'c':\n",
    "        axes[i].set_title(r'Convex combination' '\\n' r'parameter $c$')\n",
    "fig.suptitle('Parameters for fits of form' '\\n' r'$c (\\Delta + 1)^{-a} + (1 - c)  e^{-b  \\Delta}$')\n",
    "fig.tight_layout()"
   ]
  },
  {
   "attachments": {},
   "cell_type": "markdown",
   "metadata": {},
   "source": [
    "## Structure yoking"
   ]
  },
  {
   "cell_type": "code",
   "execution_count": 65,
   "metadata": {},
   "outputs": [
    {
     "data": {
      "application/vnd.jupyter.widget-view+json": {
       "model_id": "a7373c4206614975b38863354a151a09",
       "version_major": 2,
       "version_minor": 0
      },
      "text/plain": [
       "  0%|          | 0/57340 [00:00<?, ?it/s]"
      ]
     },
     "metadata": {},
     "output_type": "display_data"
    },
    {
     "data": {
      "application/vnd.jupyter.widget-view+json": {
       "model_id": "9f760f44542f401ca0d433e54479c295",
       "version_major": 2,
       "version_minor": 0
      },
      "text/plain": [
       "  0%|          | 0/1004244 [00:00<?, ?it/s]"
      ]
     },
     "metadata": {},
     "output_type": "display_data"
    },
    {
     "data": {
      "application/vnd.jupyter.widget-view+json": {
       "model_id": "9a15a1bcfdfd4e499311ae12517a12ac",
       "version_major": 2,
       "version_minor": 0
      },
      "text/plain": [
       "  0%|          | 0/14999 [00:00<?, ?it/s]"
      ]
     },
     "metadata": {},
     "output_type": "display_data"
    },
    {
     "name": "stdout",
     "output_type": "stream",
     "text": [
      "Candidate embeddings created of shape:  torch.Size([14999, 768])\n"
     ]
    },
    {
     "data": {
      "text/plain": [
       "250"
      ]
     },
     "execution_count": 65,
     "metadata": {},
     "output_type": "execute_result"
    }
   ],
   "source": [
    "model_type = \"gpt2\"\n",
    "tokenizer = AutoTokenizer.from_pretrained(\n",
    "    model_type, add_special_token=False,add_prefix_space=True)\n",
    "model = AutoModel.from_pretrained(model_type)\n",
    "\n",
    "structure_yoking_corpus = Corpus(brown,single_token_words=True,tokenizer=tokenizer)\n",
    "word_list = list(structure_yoking_corpus.word_lookup.keys())\n",
    "word_list,tokens = filter_word_list(word_list, tokenizer,[])\n",
    "candidate_embeddings = create_candidate_embeddings(tokens,model.base_model.wte.forward)\n",
    "sampling_params = {'mean':.125,'half_width':.003,'spacing':.001,'size':100}\n",
    "structure_yoking_swapper = DistributionWordSwap(word_list,\n",
    "                                            candidate_embeddings,\n",
    "                                            model.base_model.wte.forward,\n",
    "                                            sampling_params,\n",
    "                                            tokenizer,\n",
    "                                            excluded_token_ids = [])\n",
    "\n",
    "yoking_sequences = create_yoking_sequences(\n",
    "    sentences = corpus.get_sentences_of_length(12),\n",
    "    tokenizer = tokenizer,\n",
    "    excluded_token_ids = []\n",
    ")\n",
    "\n",
    "len(yoking_sequences)"
   ]
  },
  {
   "cell_type": "code",
   "execution_count": 66,
   "metadata": {},
   "outputs": [
    {
     "data": {
      "application/vnd.jupyter.widget-view+json": {
       "model_id": "d799d89a1c374145815126f16cd3ef4a",
       "version_major": 2,
       "version_minor": 0
      },
      "text/plain": [
       "0it [00:00, ?it/s]"
      ]
     },
     "metadata": {},
     "output_type": "display_data"
    },
    {
     "data": {
      "application/vnd.jupyter.widget-view+json": {
       "model_id": "daa9d080c6174c30b953ab982e12b024",
       "version_major": 2,
       "version_minor": 0
      },
      "text/plain": [
       "0it [00:00, ?it/s]"
      ]
     },
     "metadata": {},
     "output_type": "display_data"
    },
    {
     "name": "stdout",
     "output_type": "stream",
     "text": [
      "Finished calculating difference tensor for  250  sequences\n"
     ]
    }
   ],
   "source": [
    "structure_yoking_swapper(yoking_sequences)\n",
    "differences_yoking = calculate_differences(structure_yoking_swapper.swapped,\n",
    "                                    structure_yoking_swapper.original_sequences,\n",
    "                                    tokenizer,model,device='cuda')"
   ]
  },
  {
   "cell_type": "code",
   "execution_count": 63,
   "metadata": {},
   "outputs": [
    {
     "data": {
      "text/plain": [
       "(40, 40, 768, 13)"
      ]
     },
     "execution_count": 63,
     "metadata": {},
     "output_type": "execute_result"
    }
   ],
   "source": [
    "D_yoking = np.moveaxis(differences_yoking.numpy(), 0,-1)\n",
    "n_swap_time, n_model_time,n_units, n_layers = D_yoking.shape\n",
    "boundary_times = np.arange(0,D_yoking.shape[0],12)"
   ]
  },
  {
   "cell_type": "code",
   "execution_count": null,
   "metadata": {},
   "outputs": [],
   "source": [
    "n_offdiag = 12 - 1 # number of off-diagonal entries to consider\n",
    "fdiff = np.full((n_swap_time, n_layers,n_units), np.nan)\n",
    "for i in range(n_layers):\n",
    "    for u in range(n_units):\n",
    "        mdiag = np.median(np.diag(D[:,:,u,i]))\n",
    "        for j in range(n_swap_time-n_offdiag-1):\n",
    "            d = D[j+1,j+1:(j+1+n_offdiag),u,i]-D[j,j:(j+n_offdiag),u,i]\n",
    "            fdiff[j+1,i,u] = np.mean(d)/mdiag\n"
   ]
  },
  {
   "cell_type": "code",
   "execution_count": 72,
   "metadata": {},
   "outputs": [
    {
     "data": {
      "image/png": "[encoded data removed]",
      "text/plain": [
       "<Figure size 200x200 with 1 Axes>"
      ]
     },
     "metadata": {},
     "output_type": "display_data"
    }
   ],
   "source": [
    "def yoking_plots(D,sentence_len):\n",
    "\n",
    "    D = np.moveaxis(D, 0,-1)\n",
    "    n_swap_time, n_model_time,n_units, n_layers = D.shape\n",
    "    boundary_times = np.arange(0,D.shape[0],sentence_len)\n",
    "\n",
    "    # compute first order differences\n",
    "    n_offdiag = sentence_len - 1 # number of off-diagonal entries to consider\n",
    "    fdiff = np.full((n_swap_time, n_layers,n_units), np.nan)\n",
    "    for i in range(n_layers):\n",
    "        for u in range(n_units):\n",
    "            mdiag = np.median(np.diag(D[:,:,u,i]))\n",
    "\n",
    "            for j in range(n_swap_time-n_offdiag-1):\n",
    "                d = D[j+1,j+1:(j+1+n_offdiag),u,i]-D[j,j:(j+n_offdiag),u,i]\n",
    "                fdiff[j+1,i,u] = np.mean(d)/mdiag\n",
    "\n",
    "    if model == \"gpt2\":\n",
    "        yL = np.array([-1.05,1.05])*np.nanmax(fdiff[sentence_len:-sentence_len])\n",
    "        layers = [12]\n",
    "        for i, (layer) in enumerate(layers):\n",
    "            ax = plt.figure(figsize = (2,2)).gca()\n",
    "            ax.set_ylim(yL)\n",
    "            ax.plot(np.arange(sentence_len,n_swap_time), fdiff[sentence_len:,i,:],color='grey',alpha=.5,label = \"Indiv. units\")\n",
    "            for l in range(len(boundary_times)):\n",
    "                ax.plot(boundary_times[l]*np.array([1,1]), yL, 'k--', label = \"Sentence boundary\")\n",
    "            ax.plot(np.arange(sentence_len,n_swap_time), fdiff.mean(-1)[sentence_len:,i], linewidth=1.5,color='red',label = \"Mean\")\n",
    "        \n",
    "\n",
    "            ax.set_xticks(boundary_times,labels = '')\n",
    "            ax.set_yticks([-.1,.1],'')\n",
    "            ax.set_xlim([11, 47])\n",
    "            plt.savefig(os.path.join(path,f\"first_order_differences_vector_sentences_{sentence_len}_layer_{layer}.png\"))\n",
    "            plt.close()\n",
    "\n",
    "    ax = plt.figure(figsize = (2,2)).gca()\n",
    "    n_sentences = 5\n",
    "    fdiff_circ = fdiff[sentence_len:].reshape(sentence_len, n_sentences-1, n_layers,n_units, order='F')\n",
    "    yoking_index = np.nanmean(fdiff_circ[0,:,:,:], axis=0)\n",
    "    ax.violinplot(positions = np.arange(0,n_layers), dataset=yoking_index.T, showmeans=False, showextrema=False, showmedians=True,widths=0.8)\n",
    "    ax.axhline(0, color='k', linestyle='--', linewidth=1)\n",
    "    ax.tick_params(labelright= False,labeltop= False,labelleft= False, labelbottom= False)\n",
    "    ax.set_xticks(range(n_layers))\n",
    "    ax.set_yticks([0,.05,.1,.15,.2],'')\n",
    "\n",
    "yoking_plots(differences_yoking.numpy(), 12)\n"
   ]
  }
 ],
 "metadata": {
  "kernelspec": {
   "display_name": "Python 3",
   "language": "python",
   "name": "python3"
  },
  "language_info": {
   "codemirror_mode": {
    "name": "ipython",
    "version": 3
   },
   "file_extension": ".py",
   "mimetype": "text/x-python",
   "name": "python",
   "nbconvert_exporter": "python",
   "pygments_lexer": "ipython3",
   "version": "3.10.8"
  },
  "orig_nbformat": 4
 },
 "nbformat": 4,
 "nbformat_minor": 2
}
